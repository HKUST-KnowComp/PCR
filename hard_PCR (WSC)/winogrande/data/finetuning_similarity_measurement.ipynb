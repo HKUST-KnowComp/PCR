{
 "cells": [
  {
   "cell_type": "code",
   "execution_count": 1,
   "metadata": {},
   "outputs": [],
   "source": [
    "import json\n",
    "\n",
    "import pickle  \n",
    "import spacy\n",
    "import json\n",
    "import numpy as np\n",
    "# import pandas as pd\n",
    "# from pandas import Series\n",
    "import logging\n",
    "import numpy\n",
    "import nltk\n",
    "from nltk.corpus import wordnet as wn\n",
    "import os\n",
    "\n",
    "import csv\n",
    "from tqdm import tqdm_notebook as tqdm\n",
    "\n",
    "nlp = spacy.load(\"en_core_web_sm\")"
   ]
  },
  {
   "cell_type": "code",
   "execution_count": 2,
   "metadata": {},
   "outputs": [
    {
     "data": {
      "text/plain": [
       "['Eighty', 'seven', 'miles', 'to', 'go', 'yet', 'Onward']"
      ]
     },
     "execution_count": 2,
     "metadata": {},
     "output_type": "execute_result"
    }
   ],
   "source": [
    "from sklearn.feature_extraction.text import CountVectorizer\n",
    "\n",
    "from nltk.corpus import stopwords\n",
    "sw = set(stopwords.words('english'))\n",
    "\n",
    "from nltk.tokenize import RegexpTokenizer\n",
    "\n",
    "tokenizer = RegexpTokenizer(r'\\w+')\n",
    "tokenizer.tokenize('Eighty-seven miles to go, yet.  Onward!')"
   ]
  },
  {
   "cell_type": "code",
   "execution_count": 3,
   "metadata": {},
   "outputs": [],
   "source": [
    "def load_dataset(filename):\n",
    "    # read a winogrande style jsonl file\n",
    "    # qID, sentence, option1, option2, answer\n",
    "    this_set = []\n",
    "    \n",
    "    \n",
    "    with open(filename,\"r\") as json_file:\n",
    "        json_list = list(json_file)\n",
    "\n",
    "        for json_str in json_list:\n",
    "            result = json.loads(json_str)\n",
    "            this_set.append(result)\n",
    "    print(\"Loaded \"+ filename + \" with \"+ str(len(this_set)) + \" items.\")\n",
    "    return this_set"
   ]
  },
  {
   "cell_type": "code",
   "execution_count": 4,
   "metadata": {},
   "outputs": [
    {
     "name": "stdout",
     "output_type": "stream",
     "text": [
      "Loaded wsc.jsonl with 279 items.\n",
      "Loaded train_xs.jsonl with 160 items.\n",
      "Loaded train_s.jsonl with 640 items.\n",
      "Loaded train_m.jsonl with 2558 items.\n",
      "Loaded train_l.jsonl with 10234 items.\n",
      "Loaded train_xl.jsonl with 40398 items.\n",
      "{'qID': 'wsc0', 'sentence': 'The city councilmen refused the demonstrators a permit because _ feared violence.', 'option1': 'The city councilmen', 'option2': 'The demonstrators', 'answer': '1'}\n"
     ]
    }
   ],
   "source": [
    "wsc = load_dataset(\"wsc.jsonl\")\n",
    "xs = load_dataset(\"train_xs.jsonl\")\n",
    "s = load_dataset(\"train_s.jsonl\")\n",
    "m = load_dataset(\"train_m.jsonl\")\n",
    "l = load_dataset(\"train_l.jsonl\")\n",
    "xl = load_dataset(\"train_xl.jsonl\")\n",
    "\n",
    "# s_l = load_dataset(\"selected_l.jsonl\")\n",
    "\n",
    "# s1 = load_dataset(\"split_xl_1.jsonl\")\n",
    "# s2 = load_dataset(\"split_xl_2.jsonl\")\n",
    "# s3 = load_dataset(\"split_xl_3.jsonl\")\n",
    "print(wsc[0])"
   ]
  },
  {
   "cell_type": "code",
   "execution_count": 6,
   "metadata": {},
   "outputs": [
    {
     "name": "stdout",
     "output_type": "stream",
     "text": [
      "{'qID': 'wsc1', 'sentence': 'The city councilmen refused the demonstrators a permit because _ advocated violence.', 'option1': 'The city councilmen', 'option2': 'The demonstrators', 'answer': '2'}\n"
     ]
    }
   ],
   "source": [
    "print(wsc[1])"
   ]
  },
  {
   "cell_type": "code",
   "execution_count": 23,
   "metadata": {},
   "outputs": [],
   "source": [
    "def convert_grande_to_bert_commonsense(dataset, name):\n",
    "    with open(name+\".txt\", \"w\", encoding=\"utf-8\") as f:\n",
    "        for i,piece in enumerate(dataset):\n",
    "            text = piece[\"sentence\"].replace(\"_\", \"[MASK]\")\n",
    "            pron = \"[MASK]\"\n",
    "            op1 = piece[\"option1\"]\n",
    "            op2 = piece[\"option2\"]\n",
    "            if piece[\"answer\"] == \"1\":\n",
    "                answer = op1\n",
    "            elif piece[\"answer\"] == \"2\":\n",
    "                answer = op2\n",
    "            else:\n",
    "                print(piece)\n",
    "                print(\"ALERT!\")\n",
    "                \n",
    "            f.write(text)\n",
    "            f.write(\"\\n\")\n",
    "            f.write(pron)\n",
    "            f.write(\"\\n\")\n",
    "            f.write(op1)\n",
    "            f.write(\",\")\n",
    "            f.write(op2)\n",
    "            f.write(\"\\n\")\n",
    "            f.write(answer)\n",
    "            \n",
    "            if i != (len(dataset)-1):\n",
    "                f.write(\"\\n\")\n",
    "                f.write(\"\\n\")\n",
    "                \n",
    "def convert_commonsense_to_grande(input_name, output_name):\n",
    "    collected_info = []\n",
    "    with open(input_name, \"r\", encoding=\"utf-8\") as f:\n",
    "        all_data = f.readlines()\n",
    "        count = 0\n",
    "        for i, data in enumerate(all_data):\n",
    "            if i%5 == 0:\n",
    "                text = data.rstrip()\n",
    "            if i%5 == 1:\n",
    "                pron = data.rstrip()\n",
    "            if i%5 == 2:\n",
    "                cands = data.split(\",\")\n",
    "            if i%5 == 3:\n",
    "                ans = data.rstrip()\n",
    "            if i%5 == 4:\n",
    "                collected_info.append([count,text,pron,cands,ans])\n",
    "    \n",
    "    print(collected_info[0])\n",
    "                \n",
    "    with open(output_name, \"w\", encoding=\"utf-8\") as f:      \n",
    "        for piece in collected_info:\n",
    "            # {'qID': 'wsc1', 'sentence': 'The city councilmen refused the demonstrators a permit because _ advocated violence.', \n",
    "            # 'option1': 'The city councilmen', 'option2': 'The demonstrators', 'answer': '2'}\n",
    "            tmp_dic = dict()\n",
    "            tmp_dic[\"qID\"] = piece[0]\n",
    "            tmp_dic[\"sentence\"] = piece[1].replace(piece[2], \"_\")\n",
    "            tmp_dic[\"option1\"] = piece[3][0]\n",
    "            tmp_dic[\"option2\"] = piece[3][1].rstrip()\n",
    "\n",
    "            if piece[-1] == tmp_dic[\"option1\"]:\n",
    "                tmp_dic[\"answer\"] = \"1\"\n",
    "            else:\n",
    "                tmp_dic[\"answer\"] = \"2\"\n",
    "            \n",
    "            f.write(json.dumps(tmp_dic))\n",
    "            f.write(\"\\n\")\n",
    "    print(tmp_dic)"
   ]
  },
  {
   "cell_type": "code",
   "execution_count": 24,
   "metadata": {},
   "outputs": [
    {
     "name": "stdout",
     "output_type": "stream",
     "text": [
      "[0, 'The bee landed on the flower because it had pollen.', 'it', ['The bee', 'the flower\\n'], 'the flower']\n",
      "{'qID': 0, 'sentence': 'There is currently more work on coreference resolution than on chunking because _ is a problem that is still far from being solved.', 'option1': 'coreference resolution', 'option2': 'chunking', 'answer': '1'}\n"
     ]
    }
   ],
   "source": [
    "# convert_grande_to_bert_commonsense(xl, \"bert_xl\")\n",
    "convert_commonsense_to_grande(\"train.c_old.txt\", \"test.jsonl\")"
   ]
  },
  {
   "cell_type": "code",
   "execution_count": 6,
   "metadata": {},
   "outputs": [],
   "source": [
    "def comparison(cover_set, target_set, rule):\n",
    "    # prepare target base\n",
    "    tar_sents_collection = []\n",
    "    tar_words_collection = []\n",
    "    \n",
    "    vectorizer = CountVectorizer()\n",
    "    \n",
    "    print(\"Preparing target dataset...\")\n",
    "    \n",
    "    for query in target_set:\n",
    "        # construct the right sent\n",
    "        sentence = query[\"sentence\"].replace(\"_\", query[\"option\"+query[\"answer\"]])\n",
    "        doc = nlp(sentence)\n",
    "        useful_tokens = [token.lemma_ for token in doc if token.pos_ in [\"VERB\",\"NOUN\",\"ADP\",\"ADJ\",\"ADV\"]]\n",
    "        cleaned_sent = \" \".join(useful_tokens)\n",
    "        tar_sents_collection.append(cleaned_sent)\n",
    "        tar_words_collection.extend(cleaned_sent)\n",
    "        \n",
    "    tar = vectorizer.fit(tar_sents_collection)\n",
    "    \n",
    "    print(\"Preparing finetune dataset...\")\n",
    "    cov_sents_collection = []\n",
    "    cov_words_collection = []\n",
    "    \n",
    "    for case in tqdm(cover_set):\n",
    "        # construct the right sent\n",
    "        sentence = case[\"sentence\"].replace(\"_\", case[\"option\"+case[\"answer\"]])\n",
    "        doc = nlp(sentence)\n",
    "        useful_tokens = [token.lemma_ for token in doc if token.pos_ in [\"VERB\",\"NOUN\",\"ADP\",\"ADJ\",\"ADV\"]]\n",
    "        cleaned_sent = \" \".join(useful_tokens)\n",
    "        cov_sents_collection.append(cleaned_sent)\n",
    "        cov_words_collection.extend(cleaned_sent)\n",
    "        \n",
    "    cov_matrix = vectorizer.transform(cov_sents_collection)\n",
    "    score = sum(sum(cov_matrix.toarray()))/len(vectorizer.get_feature_names())\n",
    "    occ_score = np.count_nonzero(sum(cov_matrix.toarray()))/len(vectorizer.get_feature_names())\n",
    "    \n",
    "    print(\"The coverage score is \" + str(score))\n",
    "    print(\"The occurence score is \" + str(occ_score))\n",
    "    \n",
    "    return cov_matrix, score\n",
    "\n",
    "\n",
    "def sent_by_sent_comparison(cover_set, target_set):\n",
    "    \n",
    "    tar_words_collection = []\n",
    "    \n",
    "    print(\"Preparing target dataset...\")\n",
    "    \n",
    "    for query in target_set:\n",
    "        # construct the right sent\n",
    "        sentence = query[\"sentence\"].replace(\"_\", query[\"option\"+query[\"answer\"]])\n",
    "        doc = nlp(sentence)\n",
    "        useful_tokens = [token.lemma_ for token in doc if token.pos_ in [\"VERB\",\"NOUN\",\"ADP\",\"ADJ\",\"ADV\"]]\n",
    "        # print(useful_tokens)\n",
    "        # useful_tokens = [token.lemma_ for token in doc]\n",
    "        # useful_tokens = tokenizer.tokenize(sentence)\n",
    "        \n",
    "        tar_words_collection.append(useful_tokens)\n",
    "        \n",
    "    print(\"Preparing finetune dataset...\")\n",
    "    cov_score_mat = []\n",
    "    cov_words_collection = []\n",
    "    \n",
    "    \n",
    "    for case in tqdm(cover_set):\n",
    "        # construct the right sent\n",
    "        case_score_list = [] # 1 * len(target set)\n",
    "        sentence = case[\"sentence\"].replace(\"_\", case[\"option\"+case[\"answer\"]])\n",
    "        doc = nlp(sentence)\n",
    "        # useful_tokens = [token.lemma_ for token in doc if token.pos_ in [\"VERB\",\"NOUN\",\"ADP\",\"ADJ\",\"ADV\"]]\n",
    "        useful_tokens = [token.lemma_ for token in doc if token.pos_ in [\"VERB\",\"NOUN\",\"ADP\",\"ADJ\",\"ADV\"]]\n",
    "\n",
    "        # useful_tokens = [token.lemma_ for token in doc]\n",
    "        # cov_words_collection.extend(useful_tokens)\n",
    "        # useful_tokens = tokenizer.tokenize(sentence)\n",
    "        \n",
    "        for target in tar_words_collection:\n",
    "            score = 0\n",
    "            for token in target:\n",
    "                    if token in useful_tokens:\n",
    "                        if token not in sw:\n",
    "                            score += 1\n",
    "                        \n",
    "            new_score = (score * score)/(len(target)*len(useful_tokens))   \n",
    "            # jaccard_score = score/(len(target)+len(useful_tokens)-score)\n",
    "            \n",
    "            case_score_list.append(new_score)\n",
    "            # case_score_list.append(jaccard_score)\n",
    "            \n",
    "        cov_score_mat.append(case_score_list)\n",
    "        \n",
    "    return cov_score_mat"
   ]
  },
  {
   "cell_type": "code",
   "execution_count": 7,
   "metadata": {
    "scrolled": true
   },
   "outputs": [
    {
     "name": "stdout",
     "output_type": "stream",
     "text": [
      "Preparing target dataset...\n",
      "Preparing finetune dataset...\n"
     ]
    },
    {
     "data": {
      "application/vnd.jupyter.widget-view+json": {
       "model_id": "82a422ee07d4487a9f08162b120ac27e",
       "version_major": 2,
       "version_minor": 0
      },
      "text/plain": [
       "HBox(children=(IntProgress(value=0, max=40398), HTML(value='')))"
      ]
     },
     "metadata": {},
     "output_type": "display_data"
    },
    {
     "name": "stdout",
     "output_type": "stream",
     "text": [
      "\n"
     ]
    }
   ],
   "source": [
    "# cov_matrix, score = comparison(xs, wsc, \"default\")\n",
    "# cov_matrix, score = comparison(s, wsc, \"default\")\n",
    "# cov_matrix, score = comparison(m, wsc, \"default\")\n",
    "# cov_matrix, score = comparison(l, wsc, \"default\")\n",
    "# cov_matrix, score = comparison(xl, wsc, \"default\")\n",
    "#cov_matrix, score = comparison(wsc, wsc, \"default\")\n",
    "\n",
    "# for sent by sent, current we have uncleaned unigram, should we use max?\n",
    "cov_score_mat = sent_by_sent_comparison(xl, wsc)"
   ]
  },
  {
   "cell_type": "code",
   "execution_count": 10,
   "metadata": {},
   "outputs": [
    {
     "data": {
      "image/png": "[encoded data removed]",
      "text/plain": [
       "<Figure size 432x288 with 1 Axes>"
      ]
     },
     "metadata": {
      "needs_background": "light"
     },
     "output_type": "display_data"
    }
   ],
   "source": [
    "# for i in range(len(cov_score_mat)):\n",
    "#     print(max(cov_score_mat[i]))\n",
    "\n",
    "import numpy as np\n",
    "import matplotlib.pyplot as plt\n",
    "\n",
    "score_list = []\n",
    "for tmp in cov_score_mat:\n",
    "    score_list.append(max(tmp))\n",
    "\n",
    "x = np.arange(0,len(cov_score_mat), 1);\n",
    "y = np.sort(np.array(score_list))[::-1]\n",
    "plt.plot(x, y)\n",
    "\n",
    "plt.show()"
   ]
  },
  {
   "cell_type": "code",
   "execution_count": 9,
   "metadata": {},
   "outputs": [],
   "source": [
    "# print(np.count_nonzero(sum(cov_matrix.toarray())))\n",
    "# un_m = load_dataset(\"unselected_m.jsonl\")\n",
    "\n",
    "# _, _ = comparison(s1, wsc, \"default\")\n",
    "# _, _ = comparison(s2, wsc, \"default\")\n",
    "# _, _ = comparison(s3, wsc, \"default\")"
   ]
  },
  {
   "cell_type": "code",
   "execution_count": 9,
   "metadata": {},
   "outputs": [],
   "source": [
    "def select_data_pieces_ids(cov_matrix, select_num, score_bar):\n",
    "    # use the coverage matrix to extract a distilled set of winowhy\n",
    "    score_mat = cov_matrix.toarray()\n",
    "    selected_ids = []\n",
    "    selected_mat = []\n",
    "    \n",
    "    count_list = []\n",
    "    \n",
    "    for tmp in score_mat:\n",
    "        count_list.append(sum(tmp))\n",
    "    \n",
    "    # print(count_list)\n",
    "    sorted_counts = np.array(count_list).argsort()[::-1]\n",
    "    \n",
    "    num_ids = []\n",
    "    bar_ids = []\n",
    "    \n",
    "    # selection by number\n",
    "    for i in tqdm(range(select_num)):\n",
    "        selected_ids.append(int(sorted_counts[i]))\n",
    "        # selected_mat.append(cov_matrix.toarray()[sorted_counts[i]])\n",
    "\n",
    "#     score = sum(sum(selected_mat))/len(cov_matrix.toarray()[0])\n",
    "#     occ_score = np.count_nonzero(sum(np.array(selected_mat)))/len(cov_matrix.toarray()[0])\n",
    "    \n",
    "#     if score_bar != -1:\n",
    "#         tmp = select_num\n",
    "#         while occ_score <= score_bar:\n",
    "#             selected_ids.append(int(sorted_counts[tmp]))\n",
    "#             selected_mat.append(cov_matrix.toarray()[sorted_counts[tmp]])\n",
    "#             tmp += 1\n",
    "            \n",
    "#             score = sum(sum(selected_mat))/len(cov_matrix.toarray()[0])\n",
    "#             occ_score = np.count_nonzero(sum(np.array(selected_mat)))/len(cov_matrix.toarray()[0])\n",
    "    \n",
    "#     print(\"We select \" + str(len(selected_ids))+ \" items.\")\n",
    "#     print(\"The coverage score is \" + str(score))\n",
    "#     print(\"The occurence score is \" + str(occ_score))\n",
    "    \n",
    "    return selected_ids\n",
    "\n",
    "\n",
    "def split_into_folds(cov_matrix, fold_num):\n",
    "    folds = []\n",
    "    count_list = []\n",
    "    score_mat = cov_matrix.toarray()\n",
    "    for tmp in score_mat:\n",
    "        count_list.append(sum(tmp))\n",
    "    \n",
    "    sorted_counts = np.array(count_list).argsort()[::-1]\n",
    "    \n",
    "    folds = np.array_split(sorted_counts, fold_num)\n",
    "    \n",
    "    print(\"After spliting into \" + str(fold_num) +\" folds, we have \" +str(len(folds[0]))+ \" for each.\")\n",
    "    \n",
    "    return folds\n",
    "\n",
    "def split_into_folds_sent(cov_score_mat, fold_num):\n",
    "    folds = []\n",
    "    \n",
    "    score_list = []\n",
    "    for tmp in cov_score_mat:\n",
    "        score_list.append(max(tmp))\n",
    "        \n",
    "    folds = np.array_split(np.array(score_list).argsort()[::-1],fold_num)\n",
    "    foldwise_score = np.array_split(np.sort(np.array(score_list))[::-1],fold_num)\n",
    "    \n",
    "    print(\"folds scores: \", np.mean(foldwise_score[0]), np.mean(foldwise_score[1]), np.mean(foldwise_score[2]))\n",
    "    \n",
    "    return folds"
   ]
  },
  {
   "cell_type": "code",
   "execution_count": 10,
   "metadata": {},
   "outputs": [],
   "source": [
    "# selected_ids = select_data_pieces_ids(cov_matrix,10234,-1)"
   ]
  },
  {
   "cell_type": "code",
   "execution_count": 11,
   "metadata": {},
   "outputs": [],
   "source": [
    "# with open(\"sudo_m_ids.json\",\"w\") as f:\n",
    "#     json.dump(selected_ids,f)"
   ]
  },
  {
   "cell_type": "code",
   "execution_count": 12,
   "metadata": {},
   "outputs": [],
   "source": [
    "# selected_ids = select_data_pieces_ids(cov_matrix,10234,5)\n",
    "# with open(\"sudo_l_ids.json\",\"w\") as f:\n",
    "#     json.dump(selected_ids,f)"
   ]
  },
  {
   "cell_type": "code",
   "execution_count": 13,
   "metadata": {},
   "outputs": [],
   "source": [
    "def generate_sudo_set(cover_set, selected_ids, output_filename):\n",
    "    # generate the seleted/unselected set\n",
    "    with open(output_filename,\"w\") as f1:\n",
    "        with open(\"un\"+output_filename,\"w\") as f2:\n",
    "            for i,piece in enumerate(cover_set):\n",
    "                if i in selected_ids:\n",
    "                    f1.write(json.dumps(piece))\n",
    "                    f1.write(\"\\n\")\n",
    "                else:\n",
    "                    f2.write(json.dumps(piece))\n",
    "                    f2.write(\"\\n\")\n",
    "            "
   ]
  },
  {
   "cell_type": "code",
   "execution_count": 14,
   "metadata": {},
   "outputs": [],
   "source": [
    "# generate_sudo_set(xl, selected_ids, \"selected_l.jsonl\")"
   ]
  },
  {
   "cell_type": "code",
   "execution_count": 15,
   "metadata": {},
   "outputs": [
    {
     "name": "stdout",
     "output_type": "stream",
     "text": [
      "folds scores:  0.1300557006200449 0.08824576200596457 0.05076479611302629\n"
     ]
    }
   ],
   "source": [
    "folds = split_into_folds_sent(cov_score_mat, 3)"
   ]
  },
  {
   "cell_type": "code",
   "execution_count": 16,
   "metadata": {
    "scrolled": true
   },
   "outputs": [],
   "source": [
    "for i,fold in enumerate(folds):\n",
    "    generate_sudo_set(xl, fold, \"split_jaccard_\"+str(i)+\".jsonl\")"
   ]
  },
  {
   "cell_type": "code",
   "execution_count": null,
   "metadata": {},
   "outputs": [],
   "source": []
  },
  {
   "cell_type": "code",
   "execution_count": null,
   "metadata": {},
   "outputs": [],
   "source": []
  }
 ],
 "metadata": {
  "kernelspec": {
   "display_name": "Python 3",
   "language": "python",
   "name": "python3"
  },
  "language_info": {
   "codemirror_mode": {
    "name": "ipython",
    "version": 3
   },
   "file_extension": ".py",
   "mimetype": "text/x-python",
   "name": "python",
   "nbconvert_exporter": "python",
   "pygments_lexer": "ipython3",
   "version": "3.6.5"
  }
 },
 "nbformat": 4,
 "nbformat_minor": 2
}
